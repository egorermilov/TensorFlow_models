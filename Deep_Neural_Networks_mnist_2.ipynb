{
 "cells": [
  {
   "cell_type": "code",
   "execution_count": 8,
   "metadata": {
    "collapsed": true
   },
   "outputs": [],
   "source": [
    "import tensorflow as tf\n",
    "import numpy as np\n",
    "import math\n",
    "from tensorflow.examples.tutorials.mnist import input_data"
   ]
  },
  {
   "cell_type": "code",
   "execution_count": 3,
   "metadata": {
    "collapsed": true
   },
   "outputs": [],
   "source": [
    "tf.reset_default_graph()\n",
    "\n",
    "learning_rate = 0.001\n",
    "n_inputs = 784\n",
    "n_classes = 10"
   ]
  },
  {
   "cell_type": "code",
   "execution_count": 4,
   "metadata": {
    "collapsed": false
   },
   "outputs": [
    {
     "name": "stdout",
     "output_type": "stream",
     "text": [
      "Extracting ./train-images-idx3-ubyte.gz\n",
      "Extracting ./train-labels-idx1-ubyte.gz\n",
      "Extracting ./t10k-images-idx3-ubyte.gz\n",
      "Extracting ./t10k-labels-idx1-ubyte.gz\n"
     ]
    }
   ],
   "source": [
    "mnist = input_data.read_data_sets(\".\", one_hot=True)\n",
    "\n",
    "features = tf.placeholder(tf.float32, [None, n_inputs])\n",
    "labels = tf.placeholder(tf.float32, [None, n_classes])\n",
    "\n",
    "weights = tf.Variable(tf.random_normal([n_inputs, n_classes]))\n",
    "bias = tf.Variable(tf.random_normal([n_classes]))\n",
    "\n",
    "logits = tf.add(tf.matmul(features, weights), bias)"
   ]
  },
  {
   "cell_type": "code",
   "execution_count": 6,
   "metadata": {
    "collapsed": false
   },
   "outputs": [],
   "source": [
    "cost = tf.reduce_mean(tf.nn.softmax_cross_entropy_with_logits(logits=logits, labels=labels))\n",
    "optimizer = tf.train.GradientDescentOptimizer(learning_rate=learning_rate).minimize(cost)"
   ]
  },
  {
   "cell_type": "code",
   "execution_count": 7,
   "metadata": {
    "collapsed": true
   },
   "outputs": [],
   "source": [
    "correct_prediction = tf.equal(tf.argmax(logits, 1), tf.argmax(labels,1))\n",
    "accuracy = tf.reduce_mean(tf.cast(correct_prediction, tf.float32))"
   ]
  },
  {
   "cell_type": "code",
   "execution_count": 9,
   "metadata": {
    "collapsed": true
   },
   "outputs": [],
   "source": [
    "save_file = \"./train_model.ckpt\"\n",
    "batch_size = 128\n",
    "n_epochs = 100\n",
    "\n",
    "saver = tf.train.Saver()"
   ]
  },
  {
   "cell_type": "code",
   "execution_count": 12,
   "metadata": {
    "collapsed": false
   },
   "outputs": [
    {
     "name": "stdout",
     "output_type": "stream",
     "text": [
      "Epoch 0, validation accuracy = 0.1328\n",
      "Epoch 1, validation accuracy = 0.1484\n",
      "Epoch 2, validation accuracy = 0.1624\n",
      "Epoch 3, validation accuracy = 0.1764\n",
      "Epoch 4, validation accuracy = 0.1904\n",
      "Epoch 5, validation accuracy = 0.203\n",
      "Epoch 6, validation accuracy = 0.2162\n",
      "Epoch 7, validation accuracy = 0.2318\n",
      "Epoch 8, validation accuracy = 0.2458\n",
      "Epoch 9, validation accuracy = 0.2608\n",
      "Epoch 10, validation accuracy = 0.2746\n",
      "Epoch 11, validation accuracy = 0.2882\n",
      "Epoch 12, validation accuracy = 0.3022\n",
      "Epoch 13, validation accuracy = 0.3166\n",
      "Epoch 14, validation accuracy = 0.3262\n",
      "Epoch 15, validation accuracy = 0.3368\n",
      "Epoch 16, validation accuracy = 0.3482\n",
      "Epoch 17, validation accuracy = 0.359\n",
      "Epoch 18, validation accuracy = 0.3714\n",
      "Epoch 19, validation accuracy = 0.3822\n",
      "Epoch 20, validation accuracy = 0.3948\n",
      "Epoch 21, validation accuracy = 0.404\n",
      "Epoch 22, validation accuracy = 0.4146\n",
      "Epoch 23, validation accuracy = 0.4266\n",
      "Epoch 24, validation accuracy = 0.4362\n",
      "Epoch 25, validation accuracy = 0.447\n",
      "Epoch 26, validation accuracy = 0.4584\n",
      "Epoch 27, validation accuracy = 0.469\n",
      "Epoch 28, validation accuracy = 0.4774\n",
      "Epoch 29, validation accuracy = 0.4828\n",
      "Epoch 30, validation accuracy = 0.4898\n",
      "Epoch 31, validation accuracy = 0.4952\n",
      "Epoch 32, validation accuracy = 0.5016\n",
      "Epoch 33, validation accuracy = 0.5086\n",
      "Epoch 34, validation accuracy = 0.515\n",
      "Epoch 35, validation accuracy = 0.522\n",
      "Epoch 36, validation accuracy = 0.5282\n",
      "Epoch 37, validation accuracy = 0.5346\n",
      "Epoch 38, validation accuracy = 0.5406\n",
      "Epoch 39, validation accuracy = 0.547\n",
      "Epoch 40, validation accuracy = 0.5538\n",
      "Epoch 41, validation accuracy = 0.5588\n",
      "Epoch 42, validation accuracy = 0.5642\n",
      "Epoch 43, validation accuracy = 0.5678\n",
      "Epoch 44, validation accuracy = 0.5734\n",
      "Epoch 45, validation accuracy = 0.578\n",
      "Epoch 46, validation accuracy = 0.5828\n",
      "Epoch 47, validation accuracy = 0.5874\n",
      "Epoch 48, validation accuracy = 0.5924\n",
      "Epoch 49, validation accuracy = 0.5994\n",
      "Epoch 50, validation accuracy = 0.603\n",
      "Epoch 51, validation accuracy = 0.608\n",
      "Epoch 52, validation accuracy = 0.6126\n",
      "Epoch 53, validation accuracy = 0.6168\n",
      "Epoch 54, validation accuracy = 0.621\n",
      "Epoch 55, validation accuracy = 0.624\n",
      "Epoch 56, validation accuracy = 0.6266\n",
      "Epoch 57, validation accuracy = 0.6302\n",
      "Epoch 58, validation accuracy = 0.6326\n",
      "Epoch 59, validation accuracy = 0.6352\n",
      "Epoch 60, validation accuracy = 0.6394\n",
      "Epoch 61, validation accuracy = 0.6422\n",
      "Epoch 62, validation accuracy = 0.6442\n",
      "Epoch 63, validation accuracy = 0.6472\n",
      "Epoch 64, validation accuracy = 0.6492\n",
      "Epoch 65, validation accuracy = 0.6522\n",
      "Epoch 66, validation accuracy = 0.6552\n",
      "Epoch 67, validation accuracy = 0.6568\n",
      "Epoch 68, validation accuracy = 0.6588\n",
      "Epoch 69, validation accuracy = 0.6608\n",
      "Epoch 70, validation accuracy = 0.6628\n",
      "Epoch 71, validation accuracy = 0.6636\n",
      "Epoch 72, validation accuracy = 0.6662\n",
      "Epoch 73, validation accuracy = 0.6678\n",
      "Epoch 74, validation accuracy = 0.6708\n",
      "Epoch 75, validation accuracy = 0.6726\n",
      "Epoch 76, validation accuracy = 0.6754\n",
      "Epoch 77, validation accuracy = 0.6766\n",
      "Epoch 78, validation accuracy = 0.6792\n",
      "Epoch 79, validation accuracy = 0.6814\n",
      "Epoch 80, validation accuracy = 0.6842\n",
      "Epoch 81, validation accuracy = 0.6864\n",
      "Epoch 82, validation accuracy = 0.6892\n",
      "Epoch 83, validation accuracy = 0.6918\n",
      "Epoch 84, validation accuracy = 0.6934\n",
      "Epoch 85, validation accuracy = 0.6956\n",
      "Epoch 86, validation accuracy = 0.6976\n",
      "Epoch 87, validation accuracy = 0.6996\n",
      "Epoch 88, validation accuracy = 0.7006\n",
      "Epoch 89, validation accuracy = 0.7018\n",
      "Epoch 90, validation accuracy = 0.704\n",
      "Epoch 91, validation accuracy = 0.7066\n",
      "Epoch 92, validation accuracy = 0.708\n",
      "Epoch 93, validation accuracy = 0.7096\n",
      "Epoch 94, validation accuracy = 0.7116\n",
      "Epoch 95, validation accuracy = 0.7132\n",
      "Epoch 96, validation accuracy = 0.7134\n",
      "Epoch 97, validation accuracy = 0.7146\n",
      "Epoch 98, validation accuracy = 0.716\n",
      "Epoch 99, validation accuracy = 0.718\n",
      "Trained model saved!\n"
     ]
    }
   ],
   "source": [
    "with tf.Session() as sess:\n",
    "    sess.run(tf.global_variables_initializer())\n",
    "    \n",
    "    for epoch in range(n_epochs):\n",
    "        total_batch = int(math.ceil(mnist.train.num_examples / batch_size))\n",
    "        \n",
    "        for i in range(total_batch):\n",
    "            batch_features, batch_labels = mnist.train.next_batch(batch_size)\n",
    "            sess.run(\n",
    "                optimizer,\n",
    "                feed_dict={features: batch_features, labels: batch_labels}\n",
    "            )\n",
    "        valid_accuracy = sess.run(\n",
    "            accuracy,\n",
    "            feed_dict = {\n",
    "                features: mnist.validation.images,\n",
    "                labels: mnist.validation.labels\n",
    "            }\n",
    "        )\n",
    "        print \"Epoch \" + str(epoch) + \", validation accuracy = \" + str(valid_accuracy)\n",
    "    \n",
    "    saver.save(sess, save_file)\n",
    "    print \"Trained model saved!\""
   ]
  },
  {
   "cell_type": "code",
   "execution_count": null,
   "metadata": {
    "collapsed": true
   },
   "outputs": [],
   "source": []
  }
 ],
 "metadata": {
  "kernelspec": {
   "display_name": "Python 2",
   "language": "python",
   "name": "python2"
  },
  "language_info": {
   "codemirror_mode": {
    "name": "ipython",
    "version": 2
   },
   "file_extension": ".py",
   "mimetype": "text/x-python",
   "name": "python",
   "nbconvert_exporter": "python",
   "pygments_lexer": "ipython2",
   "version": "2.7.13"
  }
 },
 "nbformat": 4,
 "nbformat_minor": 2
}
