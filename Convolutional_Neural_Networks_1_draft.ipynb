{
 "cells": [
  {
   "cell_type": "code",
   "execution_count": 1,
   "metadata": {
    "collapsed": false
   },
   "outputs": [
    {
     "name": "stdout",
     "output_type": "stream",
     "text": [
      "Extracting ./train-images-idx3-ubyte.gz\n",
      "Extracting ./train-labels-idx1-ubyte.gz\n",
      "Extracting ./t10k-images-idx3-ubyte.gz\n",
      "Extracting ./t10k-labels-idx1-ubyte.gz\n"
     ]
    }
   ],
   "source": [
    "from tensorflow.examples.tutorials.mnist import input_data\n",
    "import tensorflow as tf\n",
    "mnist = input_data.read_data_sets(\".\", one_hot=True, reshape=False)"
   ]
  },
  {
   "cell_type": "code",
   "execution_count": 2,
   "metadata": {
    "collapsed": true
   },
   "outputs": [],
   "source": [
    "k_output = 64\n",
    "\n",
    "image_width = 10\n",
    "image_height = 10\n",
    "color_channels = 3\n",
    "\n",
    "filter_size_width = 5\n",
    "filter_size_height = 5\n",
    "\n",
    "input = tf.placeholder(\n",
    "    tf.float32,\n",
    "    shape=[\n",
    "        None, \n",
    "        image_height, \n",
    "        image_width, \n",
    "        color_channels\n",
    "    ]\n",
    ")\n",
    "\n",
    "weight = tf.Variable(\n",
    "    tf.truncated_normal(\n",
    "        [\n",
    "            filter_size_height,\n",
    "            filter_size_width,\n",
    "            color_channels,\n",
    "            k_output\n",
    "        ]\n",
    "    )\n",
    ")\n",
    "\n",
    "bias = tf.Variable(\n",
    "    tf.zeros(k_output)\n",
    ")\n",
    "\n",
    "conv_layer = tf.nn.conv2d(\n",
    "    input,\n",
    "    weight,\n",
    "    strides=[1,2,2,1],\n",
    "    padding=\"SAME\"\n",
    ")\n",
    "\n",
    "conv_layer = tf.nn.bias_add(\n",
    "    conv_layer, \n",
    "    bias\n",
    ")\n",
    "\n",
    "conv_layer = tf.nn.relu(conv_layer)\n",
    "\n",
    "conv_layer = tf.nn.max_pool(\n",
    "    conv_layer,\n",
    "    ksize=[1,2,2,1],\n",
    "    strides=[1,2,2,1],\n",
    "    padding=\"SAME\"\n",
    ")"
   ]
  },
  {
   "cell_type": "code",
   "execution_count": null,
   "metadata": {
    "collapsed": true
   },
   "outputs": [],
   "source": []
  }
 ],
 "metadata": {
  "kernelspec": {
   "display_name": "Python 2",
   "language": "python",
   "name": "python2"
  },
  "language_info": {
   "codemirror_mode": {
    "name": "ipython",
    "version": 2
   },
   "file_extension": ".py",
   "mimetype": "text/x-python",
   "name": "python",
   "nbconvert_exporter": "python",
   "pygments_lexer": "ipython2",
   "version": "2.7.13"
  }
 },
 "nbformat": 4,
 "nbformat_minor": 2
}
