{
 "cells": [
  {
   "cell_type": "code",
   "execution_count": 1,
   "metadata": {
    "collapsed": false
   },
   "outputs": [
    {
     "name": "stdout",
     "output_type": "stream",
     "text": [
      "Extracting ./train-images-idx3-ubyte.gz\n",
      "Extracting ./train-labels-idx1-ubyte.gz\n",
      "Extracting ./t10k-images-idx3-ubyte.gz\n",
      "Extracting ./t10k-labels-idx1-ubyte.gz\n"
     ]
    }
   ],
   "source": [
    "from tensorflow.examples.tutorials.mnist import input_data\n",
    "import tensorflow as tf\n",
    "\n",
    "mnist = input_data.read_data_sets(\".\", one_hot=True, reshape=False)"
   ]
  },
  {
   "cell_type": "code",
   "execution_count": 2,
   "metadata": {
    "collapsed": true
   },
   "outputs": [],
   "source": [
    "learning_rate = 0.00001\n",
    "epochs = 10\n",
    "batch_size = 128\n",
    "\n",
    "test_valid_size = 256\n",
    "\n",
    "n_classes = 10\n",
    "dropout = 0.75"
   ]
  },
  {
   "cell_type": "code",
   "execution_count": 3,
   "metadata": {
    "collapsed": true
   },
   "outputs": [],
   "source": [
    "weights = {\n",
    "    'wc1': tf.Variable(tf.random_normal([5,5,1,32])),\n",
    "    'wc2': tf.Variable(tf.random_normal([5,5,32,64])),\n",
    "    'wd1': tf.Variable(tf.random_normal([7 * 7 * 64, 1024])),\n",
    "    'out': tf.Variable(tf.random_normal([1024, n_classes]))\n",
    "}\n",
    "\n",
    "biases = {\n",
    "    'bc1': tf.Variable(tf.random_normal([32])),\n",
    "    'bc2': tf.Variable(tf.random_normal([64])),\n",
    "    'bd1': tf.Variable(tf.random_normal([1024])),\n",
    "    'out': tf.Variable(tf.random_normal([n_classes]))\n",
    "}"
   ]
  },
  {
   "cell_type": "code",
   "execution_count": 4,
   "metadata": {
    "collapsed": true
   },
   "outputs": [],
   "source": [
    "def conv2d(x, W, b, strides=1):\n",
    "    x = tf.nn.conv2d(\n",
    "        x, \n",
    "        W, \n",
    "        strides=[1, strides, strides, 1], \n",
    "        padding=\"SAME\"\n",
    "    )\n",
    "    x = tf.nn.bias_add(x, b)\n",
    "    return tf.nn.relu(x)\n",
    "\n",
    "def maxpool2d(x, k=2):\n",
    "    return tf.nn.max_pool(\n",
    "        x,\n",
    "        ksize=[1,k,k,1],\n",
    "        strides=[1,k,k,1],\n",
    "        padding=\"SAME\"\n",
    "    )\n"
   ]
  },
  {
   "cell_type": "code",
   "execution_count": 5,
   "metadata": {
    "collapsed": true
   },
   "outputs": [],
   "source": [
    "def conv_net(x, weights, biases, dropout):\n",
    "    conv1 = conv2d(\n",
    "        x, \n",
    "        weights['wc1'], \n",
    "        biases['bc1']\n",
    "    )\n",
    "    conv1 = maxpool2d(conv1, k=2)\n",
    "    \n",
    "    conv2 = conv2d(\n",
    "        conv1, \n",
    "        weights['wc2'], \n",
    "        biases['bc2']\n",
    "    )\n",
    "    conv2 = maxpool2d(conv2, k=2)\n",
    "    \n",
    "    fc1 = tf.reshape(\n",
    "        conv2, \n",
    "        [\n",
    "            -1, \n",
    "            weights['wd1'].get_shape().as_list()[0]\n",
    "        ]\n",
    "    )\n",
    "    fc1 = tf.add(\n",
    "        tf.matmul(fc1, weights['wd1']),\n",
    "        biases['bd1']\n",
    "    )\n",
    "    fc1 = tf.nn.relu(fc1)\n",
    "    fc = tf.nn.dropout(fc1, dropout)\n",
    "    \n",
    "    out = tf.add(\n",
    "        tf.matmul(fc1, weights['out']),\n",
    "        biases['out']\n",
    "    )\n",
    "    return out"
   ]
  },
  {
   "cell_type": "code",
   "execution_count": null,
   "metadata": {
    "collapsed": false
   },
   "outputs": [
    {
     "name": "stdout",
     "output_type": "stream",
     "text": [
      "Epoch:  1\n"
     ]
    }
   ],
   "source": [
    "x = tf.placeholder(tf.float32, [None, 28, 28, 1])\n",
    "y = tf.placeholder(tf.float32, [None, n_classes])\n",
    "keep_prob = tf.placeholder(tf.float32)\n",
    "\n",
    "logits = conv_net(\n",
    "    x,\n",
    "    weights,\n",
    "    biases,\n",
    "    keep_prob\n",
    ")\n",
    "\n",
    "cost = tf.reduce_mean(\n",
    "    tf.nn.softmax_cross_entropy_with_logits(logits=logits, labels=y)\n",
    ")\n",
    "\n",
    "optimizer = (tf.train.GradientDescentOptimizer(learning_rate=learning_rate)\n",
    "             .minimize(cost))\n",
    "\n",
    "correct_pred = tf.equal(\n",
    "    tf.argmax(logits,1),\n",
    "    tf.argmax(y,1)\n",
    ")\n",
    "\n",
    "accuracy = tf.reduce_mean(\n",
    "    tf.cast(correct_pred, tf.float32)\n",
    ")\n",
    "\n",
    "init = tf.global_variables_initializer()\n",
    "\n",
    "with tf.Session() as sess:\n",
    "    sess.run(init)\n",
    "    \n",
    "    for epoch in range(epochs):\n",
    "        print \"Epoch: \", epoch+1\n",
    "        for batch in range(mnist.train.num_examples // batch_size):\n",
    "            batch_x, batch_y = mnist.train.next_batch(batch_size)\n",
    "            \n",
    "            sess.run(\n",
    "                optimizer,\n",
    "                feed_dict={\n",
    "                    x: batch_x,\n",
    "                    y: batch_y,\n",
    "                    keep_prob: dropout\n",
    "                }\n",
    "            )\n",
    "            \n",
    "        loss = sess.run(\n",
    "            cost,\n",
    "            feed_dict={\n",
    "                x: batch_x,\n",
    "                y: batch_y,\n",
    "                keep_prob: 1.0\n",
    "            }\n",
    "        )\n",
    "\n",
    "        valid_acc = sess.run(\n",
    "            accuracy,\n",
    "            feed_dict={\n",
    "                x: mnist.validation.images[:test_valid_size],\n",
    "                y: mnist.validation.labels[:test_valid_size],\n",
    "                keep_prob: 1.0\n",
    "            }\n",
    "        )\n",
    "            \n",
    "        print \">> accuracy: \", valid_acc\n",
    "            \n",
    "    test_acc = sess.run(\n",
    "        accuracy,\n",
    "        feed_dict={\n",
    "            x: mnist.test.images[:test_valid_size],\n",
    "            y: mnist.test.labels[:test_valid_size],\n",
    "            keep_prob: 1.0\n",
    "        }\n",
    "    )\n",
    "    print \"Test accuracy \", test_acc"
   ]
  },
  {
   "cell_type": "code",
   "execution_count": null,
   "metadata": {
    "collapsed": true
   },
   "outputs": [],
   "source": []
  }
 ],
 "metadata": {
  "kernelspec": {
   "display_name": "Python 2",
   "language": "python",
   "name": "python2"
  },
  "language_info": {
   "codemirror_mode": {
    "name": "ipython",
    "version": 2
   },
   "file_extension": ".py",
   "mimetype": "text/x-python",
   "name": "python",
   "nbconvert_exporter": "python",
   "pygments_lexer": "ipython2",
   "version": "2.7.13"
  }
 },
 "nbformat": 4,
 "nbformat_minor": 2
}
